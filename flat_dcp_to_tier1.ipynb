{
 "cells": [
  {
   "cell_type": "code",
   "execution_count": 1,
   "metadata": {},
   "outputs": [],
   "source": [
    "import pandas as pd\n",
    "import numpy as np\n",
    "import os\n",
    "import itertools"
   ]
  },
  {
   "cell_type": "code",
   "execution_count": 2,
   "metadata": {},
   "outputs": [],
   "source": [
    "from metadata_dict import (dcp_to_tier1_mapping, tier1)"
   ]
  },
  {
   "cell_type": "code",
   "execution_count": 3,
   "metadata": {},
   "outputs": [],
   "source": [
    "dcp_path = \"./dcp_spreadsheets/\"\n",
    "flat_path = \"./flat_dcp/\"\n",
    "tier1_path = \"./tier1_output/\"\n",
    "file_name = \"ImmuneLandscapeccRCC_metadata_30-01-2023.xlsx\""
   ]
  },
  {
   "cell_type": "code",
   "execution_count": 4,
   "metadata": {},
   "outputs": [],
   "source": [
    "dcp_spreadsheet = pd.read_excel(os.path.join(dcp_path, file_name), sheet_name=None, skiprows= [0,1,2,4])"
   ]
  },
  {
   "cell_type": "markdown",
   "metadata": {},
   "source": [
    "## Uns tab"
   ]
  },
  {
   "cell_type": "code",
   "execution_count": 5,
   "metadata": {},
   "outputs": [],
   "source": [
    "project_info = dcp_spreadsheet['Project']\n",
    "contributors = pd.read_excel(os.path.join(dcp_path, file_name), sheet_name='Project - Contributors', skiprows= [0,1,2,4])\n",
    "\n",
    "\n",
    "uns = {\n",
    "    \"title\": project_info.iloc[0]['project.project_core.project_title'], \n",
    "    # select the last listed contributor that is corresponding\n",
    "    \"study_pi\": contributors['project.contributors.name']\\\n",
    "                    [max(\\\n",
    "                        contributors[contributors['project.contributors.corresponding_contributor'].isin([True, 'yes'])]\\\n",
    "                            .index)]\n",
    "    }"
   ]
  },
  {
   "cell_type": "code",
   "execution_count": 6,
   "metadata": {},
   "outputs": [],
   "source": [
    "uns = pd.DataFrame(uns, index=[0])"
   ]
  },
  {
   "cell_type": "markdown",
   "metadata": {},
   "source": [
    "## Obs tab"
   ]
  },
  {
   "cell_type": "code",
   "execution_count": 7,
   "metadata": {},
   "outputs": [],
   "source": [
    "flat_biomaterial = pd.read_csv(os.path.join(flat_path, file_name.replace(\".xlsx\", \"_flat_biomaterial.csv\")))"
   ]
  },
  {
   "cell_type": "code",
   "execution_count": 8,
   "metadata": {},
   "outputs": [],
   "source": [
    "flat_tier1 = flat_biomaterial.rename(columns=dcp_to_tier1_mapping)\\\n",
    "    .drop(columns=[col for col in flat_biomaterial if col not in dcp_to_tier1_mapping.keys()])"
   ]
  },
  {
   "cell_type": "code",
   "execution_count": 9,
   "metadata": {},
   "outputs": [
    {
     "name": "stderr",
     "output_type": "stream",
     "text": [
      "/var/folders/cg/kjj0b2v92rx2c4s4d0wc5by80000gp/T/ipykernel_23914/3495121067.py:4: FutureWarning: Setting an item of incompatible dtype is deprecated and will raise an error in a future version of pandas. Value 'surgical donor' has dtype incompatible with float64, please explicitly cast to a compatible dtype first.\n",
      "  flat_tier1.loc[(flat_tier1['sample_source_alive'] == 'yes'), 'sample_source'] = 'surgical donor'\n"
     ]
    }
   ],
   "source": [
    "if 'sample_source_alive' in flat_tier1.keys():\n",
    "    flat_tier1['sample_source'] = np.nan\n",
    "    # fill living with surgical and deceaced with post-mortem, and if there is transplant donor information overwrite\n",
    "    flat_tier1.loc[(flat_tier1['sample_source_alive'] == 'yes'), 'sample_source'] = 'surgical donor'\n",
    "    flat_tier1.loc[(flat_tier1['sample_source_alive'] == 'no'), 'sample_source'] = 'postmortem donor'\n",
    "    \n",
    "    if  'sample_source_organ' in flat_tier1.keys():\n",
    "        flat_tier1.loc[(flat_tier1['sample_source_organ'] == 'yes'), 'sample_source'] = 'organ donor'\n",
    "        flat_tier1.drop(columns=['sample_source_organ'], inplace=True)"
   ]
  },
  {
   "cell_type": "code",
   "execution_count": 10,
   "metadata": {},
   "outputs": [],
   "source": [
    "if 'sex_ontology_term_id' in flat_tier1.keys():\n",
    "    sex_ontology = {\n",
    "        'sex_ontology_term_id':\n",
    "            {\n",
    "                'female': 'PATO:0000383',\n",
    "                'male': 'PATO:0000384'\n",
    "            }           \n",
    "    }\n",
    "    flat_tier1.replace(sex_ontology, inplace=True)"
   ]
  },
  {
   "cell_type": "code",
   "execution_count": 11,
   "metadata": {},
   "outputs": [],
   "source": [
    "def library_to_tissue_type(library_id, dcp_spreadsheet):\n",
    "    tissue_type_dict = {\n",
    "        'specimen_from_organism.biomaterial_core.biomaterial_id': 'tissue',\n",
    "        'cell_line.biomaterial_core.biomaterial_id': 'cell culture',\n",
    "        'organoid.biomaterial_core.biomaterial_id': 'organoid'\n",
    "    }\n",
    "    row = dcp_spreadsheet['Cell suspension'][dcp_spreadsheet['Cell suspension']['cell_suspension.biomaterial_core.biomaterial_id'] == library_id]\n",
    "    tissue_type = [tissue_type for dcp_type, tissue_type in tissue_type_dict.items() if dcp_type in row.columns and not any(row[dcp_type].isna())]\n",
    "    if len(tissue_type) > 1:\n",
    "        raise ValueError(f'Multiple input biomaterials for {library_id}')\n",
    "    return tissue_type[0]\n",
    "\n",
    "flat_tier1['tissue_type'] = flat_tier1['library_id'].apply(lambda x: library_to_tissue_type(x, dcp_spreadsheet))"
   ]
  },
  {
   "cell_type": "code",
   "execution_count": 12,
   "metadata": {},
   "outputs": [],
   "source": [
    "age_to_dev_dict = {\n",
    "    (0, 14): 'HsapDv:0000264',\n",
    "    (15, 19): 'HsapDv:0000268',\n",
    "    (20, 29): 'HsapDv:0000237',\n",
    "    (30, 39): 'HsapDv:0000238',\n",
    "    (40, 49): 'HsapDv:0000239',\n",
    "    (50, 59): 'HsapDv:0000240',\n",
    "    (60, 69): 'HsapDv:0000241',\n",
    "    (70, 79): 'HsapDv:0000242',\n",
    "    (80, 89): 'HsapDv:0000243'\n",
    "}\n",
    "\n",
    "def age_to_dev(age, age_to_dev_dict=age_to_dev_dict):\n",
    "    # TODO add a way to record the following options\n",
    "    # Unknown = unknown\n",
    "    # Embryonic stage = A term from the set of Carnegie stages 1-23 = (up to 8 weeks after conception; e.g. HsapDv:0000003)\n",
    "    # Fetal development = A term from the set of 9 to 38 week post-fertilization human stages = (9 weeks after conception and before birth; e.g. HsapDv:0000046)\n",
    "    # Post natal =\n",
    "    if isinstance(age, str) and '-' in age:\n",
    "        age = [int(age) for age in age.split('-')]\n",
    "        for age_range, label in age_to_dev_dict.items():\n",
    "            if age_range[0] <= age[0] <= age_range[1] and \\\n",
    "                    age_range[0] <= age[1] <= age_range[1]:\n",
    "                return label\n",
    "            elif age_range[0] <= np.mean(age) <= age_range[1]:\n",
    "                print(f\"Given range {age} overlaps the acceptable ranges.\",\n",
    "                       f\"We will use the mean age {np.mean(age)}.\")\n",
    "                return label\n",
    "    elif isinstance(age, int):\n",
    "        for age_range, label in age_to_dev_dict.items():\n",
    "            if age_range[0] <= age <= age_range[1]:\n",
    "                return label\n",
    "    print(f\"Age {age} could not be mapped to accepted ranges {['-'.join(map(str, age)) for age in age_to_dev_dict.keys()]}\")\n",
    "\n",
    "\n",
    "if flat_tier1['organism_ontology_term_id'].isin([9606]).all():\n",
    "    flat_tier1['development_stage_ontology_term_id'] = \\\n",
    "        flat_tier1['development_stage_ontology_term_id'].apply(age_to_dev)\n",
    "else:\n",
    "    print(\"Not human organism. Please convert the age to developomental stage ontology manually.\")"
   ]
  },
  {
   "cell_type": "code",
   "execution_count": 13,
   "metadata": {},
   "outputs": [],
   "source": [
    "# For this dataset the preservation and storage method has not been submitted, but it is mentioned in the article that the samples were snap frozen with liquid nitrogen & stored at -80C\n",
    "if 'sample_preservation_method' not in flat_tier1.keys():\n",
    "    flat_tier1['sample_preservation_method'] = 'frozen in liquid nitrogen'"
   ]
  },
  {
   "cell_type": "code",
   "execution_count": 14,
   "metadata": {},
   "outputs": [],
   "source": [
    "# change names to be in align with CELLxGENE schema\n",
    "suspension_type_dict = {\n",
    "    'suspension_type':\n",
    "    {\n",
    "        'single cell': 'cell',\n",
    "        'single nucleus': 'nucleus'\n",
    "    }\n",
    "}\n",
    "flat_tier1.replace(suspension_type_dict, inplace=True)"
   ]
  },
  {
   "cell_type": "code",
   "execution_count": 15,
   "metadata": {},
   "outputs": [],
   "source": [
    "cell_enrichment_dict = {\n",
    "    'cell_enrichment':\n",
    "    {\n",
    "        'DAPI-': 'na',\n",
    "        np.nan: 'na'\n",
    "    }\n",
    "}\n",
    "flat_tier1.replace(cell_enrichment_dict, inplace=True)"
   ]
  },
  {
   "cell_type": "code",
   "execution_count": 16,
   "metadata": {},
   "outputs": [],
   "source": [
    "# Almost every dataset we have wrangled is primary data. No way to automate this one as DCP does not record this information\n",
    "flat_tier1['is_primary_data'] = True"
   ]
  },
  {
   "cell_type": "code",
   "execution_count": 17,
   "metadata": {},
   "outputs": [],
   "source": [
    "if 'alignment_software' in flat_tier1.keys() and 'alignment_software_version' in flat_tier1.keys():\n",
    "    flat_tier1['alignment_software'] = flat_tier1['alignment_software'].astype(str) + flat_tier1['alignment_software_version'].astype(str)\n",
    "else:\n",
    "    flat_tier1['alignment_software'] = 'Cellranger v3.0.2'\n",
    "# this field was not in DCP schema when we wrangled this dataset, therefore we add it manually"
   ]
  },
  {
   "cell_type": "code",
   "execution_count": 18,
   "metadata": {},
   "outputs": [],
   "source": [
    "flat_tier1['organism_ontology_term_id'] = 'NCBITaxon:' + flat_tier1['organism_ontology_term_id'].astype(str)"
   ]
  },
  {
   "cell_type": "markdown",
   "metadata": {},
   "source": [
    "### Manual inspection"
   ]
  },
  {
   "cell_type": "code",
   "execution_count": 19,
   "metadata": {},
   "outputs": [
    {
     "name": "stdout",
     "output_type": "stream",
     "text": [
      "Are these the library IDs that are listed in the repository? Or just a generic name?\n"
     ]
    },
    {
     "data": {
      "text/html": [
       "<div>\n",
       "<style scoped>\n",
       "    .dataframe tbody tr th:only-of-type {\n",
       "        vertical-align: middle;\n",
       "    }\n",
       "\n",
       "    .dataframe tbody tr th {\n",
       "        vertical-align: top;\n",
       "    }\n",
       "\n",
       "    .dataframe thead th {\n",
       "        text-align: right;\n",
       "    }\n",
       "</style>\n",
       "<table border=\"1\" class=\"dataframe\">\n",
       "  <thead>\n",
       "    <tr style=\"text-align: right;\">\n",
       "      <th></th>\n",
       "      <th>library_id</th>\n",
       "      <th>library_id_repository</th>\n",
       "    </tr>\n",
       "  </thead>\n",
       "  <tbody>\n",
       "    <tr>\n",
       "      <th>0</th>\n",
       "      <td>IpiNivo_Complete_kidney_CS</td>\n",
       "      <td>Cell suspension from normal kidney tissue</td>\n",
       "    </tr>\n",
       "    <tr>\n",
       "      <th>1</th>\n",
       "      <td>IpiNivo_Complete_PBMC_CS</td>\n",
       "      <td>PBMCs</td>\n",
       "    </tr>\n",
       "    <tr>\n",
       "      <th>2</th>\n",
       "      <td>NivoExposed_tumor_Near_CS</td>\n",
       "      <td>Cell suspension from tumor tissue (Near)</td>\n",
       "    </tr>\n",
       "    <tr>\n",
       "      <th>3</th>\n",
       "      <td>UT1_tumor_Center_CS</td>\n",
       "      <td>Cell suspension from tumor tissue (Center)</td>\n",
       "    </tr>\n",
       "    <tr>\n",
       "      <th>4</th>\n",
       "      <td>NivoExposed_tumor_Far_CS</td>\n",
       "      <td>Cell suspension from tumor tissue (Far)</td>\n",
       "    </tr>\n",
       "    <tr>\n",
       "      <th>5</th>\n",
       "      <td>UT2_tumor_Near_CS</td>\n",
       "      <td>Cell suspension from tumor tissue (Near)</td>\n",
       "    </tr>\n",
       "    <tr>\n",
       "      <th>6</th>\n",
       "      <td>UT2_kidney_CS</td>\n",
       "      <td>Cell suspension from normal kidney tissue</td>\n",
       "    </tr>\n",
       "    <tr>\n",
       "      <th>7</th>\n",
       "      <td>IpiNivo_Mixed_kidney_CS</td>\n",
       "      <td>Cell suspension from normal kidney tissue</td>\n",
       "    </tr>\n",
       "    <tr>\n",
       "      <th>8</th>\n",
       "      <td>IpiNivo_Mixed_PBMC_CS</td>\n",
       "      <td>PBMCs</td>\n",
       "    </tr>\n",
       "    <tr>\n",
       "      <th>9</th>\n",
       "      <td>IpiNivo_Mixed_tumor_Near_CS</td>\n",
       "      <td>Cell suspension from tumor tissue (Near)</td>\n",
       "    </tr>\n",
       "    <tr>\n",
       "      <th>10</th>\n",
       "      <td>IpiNivo_Complete_tumor_Near_CS</td>\n",
       "      <td>Cell suspension from tumor tissue (Near)</td>\n",
       "    </tr>\n",
       "    <tr>\n",
       "      <th>11</th>\n",
       "      <td>IpiNivo_Complete_tumor_Center_CS</td>\n",
       "      <td>Cell suspension from tumor tissue (Center)</td>\n",
       "    </tr>\n",
       "    <tr>\n",
       "      <th>12</th>\n",
       "      <td>IpiNivo_Complete_tumor_Far_CS</td>\n",
       "      <td>Cell suspension from tumor tissue (Far)</td>\n",
       "    </tr>\n",
       "    <tr>\n",
       "      <th>13</th>\n",
       "      <td>UT1_tumor_Near_CS</td>\n",
       "      <td>Cell suspension from tumor tissue (Near)</td>\n",
       "    </tr>\n",
       "    <tr>\n",
       "      <th>14</th>\n",
       "      <td>UT1_tumor_Far_CS</td>\n",
       "      <td>Cell suspension from tumor tissue (Far)</td>\n",
       "    </tr>\n",
       "    <tr>\n",
       "      <th>15</th>\n",
       "      <td>UT1_kidney_CS</td>\n",
       "      <td>Cell suspension from normal kidney tissue</td>\n",
       "    </tr>\n",
       "    <tr>\n",
       "      <th>16</th>\n",
       "      <td>NivoExposed_tumor_Center_CS</td>\n",
       "      <td>Cell suspension from tumor tissue (Center)</td>\n",
       "    </tr>\n",
       "    <tr>\n",
       "      <th>17</th>\n",
       "      <td>UT2_tumor_Center_CS</td>\n",
       "      <td>Cell suspension from tumor tissue (Center)</td>\n",
       "    </tr>\n",
       "    <tr>\n",
       "      <th>18</th>\n",
       "      <td>NivoExposed_kidney_CS</td>\n",
       "      <td>Cell suspension from normal kidney tissue</td>\n",
       "    </tr>\n",
       "    <tr>\n",
       "      <th>19</th>\n",
       "      <td>IpiNivo_Resistant_tumor_Far_CS</td>\n",
       "      <td>Cell suspension from tumor tissue (Far)</td>\n",
       "    </tr>\n",
       "    <tr>\n",
       "      <th>20</th>\n",
       "      <td>IpiNivo_Resistant_tumor_Near_CS</td>\n",
       "      <td>Cell suspension from tumor tissue (Near)</td>\n",
       "    </tr>\n",
       "    <tr>\n",
       "      <th>21</th>\n",
       "      <td>UT2_tumor_Far_CS</td>\n",
       "      <td>Cell suspension from tumor tissue (Far)</td>\n",
       "    </tr>\n",
       "    <tr>\n",
       "      <th>22</th>\n",
       "      <td>IpiNivo_Resistant_lymph_node_CS</td>\n",
       "      <td>Cell suspension from lymph node</td>\n",
       "    </tr>\n",
       "    <tr>\n",
       "      <th>23</th>\n",
       "      <td>IpiNivo_Resistant_kidney_CS</td>\n",
       "      <td>Cell suspension from normal kidney tissue</td>\n",
       "    </tr>\n",
       "    <tr>\n",
       "      <th>24</th>\n",
       "      <td>IpiNivo_Resistant_PBMC_CS</td>\n",
       "      <td>PBMCs</td>\n",
       "    </tr>\n",
       "    <tr>\n",
       "      <th>25</th>\n",
       "      <td>IpiNivo_Mixed_tumor_Center_CS</td>\n",
       "      <td>Cell suspension from tumor tissue (Center)</td>\n",
       "    </tr>\n",
       "    <tr>\n",
       "      <th>26</th>\n",
       "      <td>IpiNivo_Mixed_tumor_Far_CS</td>\n",
       "      <td>Cell suspension from tumor tissue (Far)</td>\n",
       "    </tr>\n",
       "    <tr>\n",
       "      <th>27</th>\n",
       "      <td>NivoExposed_PBMC_CS</td>\n",
       "      <td>PBMCs</td>\n",
       "    </tr>\n",
       "    <tr>\n",
       "      <th>28</th>\n",
       "      <td>IpiNivo_Resistant_tumor_Center_CS</td>\n",
       "      <td>Cell suspension from tumor tissue (Center)</td>\n",
       "    </tr>\n",
       "  </tbody>\n",
       "</table>\n",
       "</div>"
      ],
      "text/plain": [
       "                           library_id  \\\n",
       "0          IpiNivo_Complete_kidney_CS   \n",
       "1            IpiNivo_Complete_PBMC_CS   \n",
       "2           NivoExposed_tumor_Near_CS   \n",
       "3                 UT1_tumor_Center_CS   \n",
       "4            NivoExposed_tumor_Far_CS   \n",
       "5                   UT2_tumor_Near_CS   \n",
       "6                       UT2_kidney_CS   \n",
       "7             IpiNivo_Mixed_kidney_CS   \n",
       "8               IpiNivo_Mixed_PBMC_CS   \n",
       "9         IpiNivo_Mixed_tumor_Near_CS   \n",
       "10     IpiNivo_Complete_tumor_Near_CS   \n",
       "11   IpiNivo_Complete_tumor_Center_CS   \n",
       "12      IpiNivo_Complete_tumor_Far_CS   \n",
       "13                  UT1_tumor_Near_CS   \n",
       "14                   UT1_tumor_Far_CS   \n",
       "15                      UT1_kidney_CS   \n",
       "16        NivoExposed_tumor_Center_CS   \n",
       "17                UT2_tumor_Center_CS   \n",
       "18              NivoExposed_kidney_CS   \n",
       "19     IpiNivo_Resistant_tumor_Far_CS   \n",
       "20    IpiNivo_Resistant_tumor_Near_CS   \n",
       "21                   UT2_tumor_Far_CS   \n",
       "22    IpiNivo_Resistant_lymph_node_CS   \n",
       "23        IpiNivo_Resistant_kidney_CS   \n",
       "24          IpiNivo_Resistant_PBMC_CS   \n",
       "25      IpiNivo_Mixed_tumor_Center_CS   \n",
       "26         IpiNivo_Mixed_tumor_Far_CS   \n",
       "27                NivoExposed_PBMC_CS   \n",
       "28  IpiNivo_Resistant_tumor_Center_CS   \n",
       "\n",
       "                         library_id_repository  \n",
       "0    Cell suspension from normal kidney tissue  \n",
       "1                                        PBMCs  \n",
       "2     Cell suspension from tumor tissue (Near)  \n",
       "3   Cell suspension from tumor tissue (Center)  \n",
       "4      Cell suspension from tumor tissue (Far)  \n",
       "5     Cell suspension from tumor tissue (Near)  \n",
       "6    Cell suspension from normal kidney tissue  \n",
       "7    Cell suspension from normal kidney tissue  \n",
       "8                                        PBMCs  \n",
       "9     Cell suspension from tumor tissue (Near)  \n",
       "10    Cell suspension from tumor tissue (Near)  \n",
       "11  Cell suspension from tumor tissue (Center)  \n",
       "12     Cell suspension from tumor tissue (Far)  \n",
       "13    Cell suspension from tumor tissue (Near)  \n",
       "14     Cell suspension from tumor tissue (Far)  \n",
       "15   Cell suspension from normal kidney tissue  \n",
       "16  Cell suspension from tumor tissue (Center)  \n",
       "17  Cell suspension from tumor tissue (Center)  \n",
       "18   Cell suspension from normal kidney tissue  \n",
       "19     Cell suspension from tumor tissue (Far)  \n",
       "20    Cell suspension from tumor tissue (Near)  \n",
       "21     Cell suspension from tumor tissue (Far)  \n",
       "22             Cell suspension from lymph node  \n",
       "23   Cell suspension from normal kidney tissue  \n",
       "24                                       PBMCs  \n",
       "25  Cell suspension from tumor tissue (Center)  \n",
       "26     Cell suspension from tumor tissue (Far)  \n",
       "27                                       PBMCs  \n",
       "28  Cell suspension from tumor tissue (Center)  "
      ]
     },
     "metadata": {},
     "output_type": "display_data"
    }
   ],
   "source": [
    "if 'library_id_repository' in flat_tier1.keys():\n",
    "    print(\"Are these the library IDs that are listed in the repository? Or just a generic name?\")\n",
    "    display(flat_tier1[['library_id', 'library_id_repository']].drop_duplicates())\n",
    "if True:\n",
    "    del flat_tier1['library_id_repository']"
   ]
  },
  {
   "cell_type": "code",
   "execution_count": 20,
   "metadata": {},
   "outputs": [
    {
     "name": "stdout",
     "output_type": "stream",
     "text": [
      "From pooled diseases, we will use MONDO:0005005, instead of HP:0002716\n"
     ]
    }
   ],
   "source": [
    "# if we have pooled diseases, we would need to select one. by default select the first and print what was not selected\n",
    "unique_diseases = flat_tier1['disease_ontology_term_id'].str.split(\"\\\\|\\\\|\", expand=True, n=1).drop_duplicates().dropna()\n",
    "if unique_diseases.shape[1] > 1:\n",
    "    selected_disease = \", \".join(np.unique(unique_diseases[0]))\n",
    "    unselected_diseases = \" and \".join(unique_diseases[1])\n",
    "    print(f\"From pooled diseases, we will use {selected_disease}, instead of {unselected_diseases}\")\n",
    "\n",
    "    flat_tier1['disease_ontology_term_id'] = flat_tier1['disease_ontology_term_id'].str.split(\"\\\\|\\\\|\").str[0]\n",
    "\n",
    "if False:\n",
    "    flat_tier1.loc[(flat_tier1['disease_ontology_term_id'] == 'POOLED DISEASES'), 'disease_ontology_term_id'] = 'SELECTED DISEASE'"
   ]
  },
  {
   "cell_type": "code",
   "execution_count": 21,
   "metadata": {},
   "outputs": [
    {
     "name": "stdout",
     "output_type": "stream",
     "text": [
      "Please investigate if diseases of donor could be diseases in specimen, in order to define healthy or adjacent sampled_site_condition\n"
     ]
    },
    {
     "name": "stderr",
     "output_type": "stream",
     "text": [
      "/var/folders/cg/kjj0b2v92rx2c4s4d0wc5by80000gp/T/ipykernel_23914/4054513291.py:3: FutureWarning: Setting an item of incompatible dtype is deprecated and will raise an error in a future version of pandas. Value 'healthy' has dtype incompatible with float64, please explicitly cast to a compatible dtype first.\n",
      "  flat_tier1.loc[(flat_tier1['sampled_site_condition_donor'] == 'normal') & \\\n"
     ]
    },
    {
     "data": {
      "text/html": [
       "<div>\n",
       "<style scoped>\n",
       "    .dataframe tbody tr th:only-of-type {\n",
       "        vertical-align: middle;\n",
       "    }\n",
       "\n",
       "    .dataframe tbody tr th {\n",
       "        vertical-align: top;\n",
       "    }\n",
       "\n",
       "    .dataframe thead th {\n",
       "        text-align: right;\n",
       "    }\n",
       "</style>\n",
       "<table border=\"1\" class=\"dataframe\">\n",
       "  <thead>\n",
       "    <tr style=\"text-align: right;\">\n",
       "      <th></th>\n",
       "      <th>sampled_site_condition_donor</th>\n",
       "      <th>sampled_site_condition_specimen</th>\n",
       "      <th>tissue</th>\n",
       "    </tr>\n",
       "  </thead>\n",
       "  <tbody>\n",
       "    <tr>\n",
       "      <th>0</th>\n",
       "      <td>clear cell renal carcinoma</td>\n",
       "      <td>normal</td>\n",
       "      <td>kidney</td>\n",
       "    </tr>\n",
       "    <tr>\n",
       "      <th>1</th>\n",
       "      <td>clear cell renal carcinoma</td>\n",
       "      <td>normal</td>\n",
       "      <td>blood</td>\n",
       "    </tr>\n",
       "    <tr>\n",
       "      <th>6</th>\n",
       "      <td>clear cell renal carcinoma</td>\n",
       "      <td>normal</td>\n",
       "      <td>kidney</td>\n",
       "    </tr>\n",
       "    <tr>\n",
       "      <th>7</th>\n",
       "      <td>clear cell renal carcinoma</td>\n",
       "      <td>normal</td>\n",
       "      <td>kidney</td>\n",
       "    </tr>\n",
       "    <tr>\n",
       "      <th>8</th>\n",
       "      <td>clear cell renal carcinoma</td>\n",
       "      <td>normal</td>\n",
       "      <td>blood</td>\n",
       "    </tr>\n",
       "    <tr>\n",
       "      <th>15</th>\n",
       "      <td>clear cell renal carcinoma</td>\n",
       "      <td>normal</td>\n",
       "      <td>kidney</td>\n",
       "    </tr>\n",
       "    <tr>\n",
       "      <th>18</th>\n",
       "      <td>clear cell renal carcinoma</td>\n",
       "      <td>normal</td>\n",
       "      <td>kidney</td>\n",
       "    </tr>\n",
       "    <tr>\n",
       "      <th>23</th>\n",
       "      <td>clear cell renal carcinoma||Lymphadenopathy</td>\n",
       "      <td>normal</td>\n",
       "      <td>kidney</td>\n",
       "    </tr>\n",
       "    <tr>\n",
       "      <th>24</th>\n",
       "      <td>clear cell renal carcinoma||Lymphadenopathy</td>\n",
       "      <td>normal</td>\n",
       "      <td>blood</td>\n",
       "    </tr>\n",
       "    <tr>\n",
       "      <th>27</th>\n",
       "      <td>clear cell renal carcinoma</td>\n",
       "      <td>normal</td>\n",
       "      <td>blood</td>\n",
       "    </tr>\n",
       "  </tbody>\n",
       "</table>\n",
       "</div>"
      ],
      "text/plain": [
       "                   sampled_site_condition_donor  \\\n",
       "0                    clear cell renal carcinoma   \n",
       "1                    clear cell renal carcinoma   \n",
       "6                    clear cell renal carcinoma   \n",
       "7                    clear cell renal carcinoma   \n",
       "8                    clear cell renal carcinoma   \n",
       "15                   clear cell renal carcinoma   \n",
       "18                   clear cell renal carcinoma   \n",
       "23  clear cell renal carcinoma||Lymphadenopathy   \n",
       "24  clear cell renal carcinoma||Lymphadenopathy   \n",
       "27                   clear cell renal carcinoma   \n",
       "\n",
       "   sampled_site_condition_specimen  tissue  \n",
       "0                           normal  kidney  \n",
       "1                           normal   blood  \n",
       "6                           normal  kidney  \n",
       "7                           normal  kidney  \n",
       "8                           normal   blood  \n",
       "15                          normal  kidney  \n",
       "18                          normal  kidney  \n",
       "23                          normal  kidney  \n",
       "24                          normal   blood  \n",
       "27                          normal   blood  "
      ]
     },
     "metadata": {},
     "output_type": "display_data"
    }
   ],
   "source": [
    "# diseased donor and healthy specimen does not mean adjacent every time. This needs to be inspected manually\n",
    "flat_tier1['sampled_site_condition'] = np.nan\n",
    "flat_tier1.loc[(flat_tier1['sampled_site_condition_donor'] == 'normal') & \\\n",
    "               (flat_tier1['sampled_site_condition_specimen'] == 'normal'), 'sampled_site_condition'] = 'healthy'\n",
    "flat_tier1.loc[(flat_tier1['sampled_site_condition_donor'] != 'normal') & \\\n",
    "               (flat_tier1['sampled_site_condition_specimen'] == 'normal'), 'sampled_site_condition'] = 'adjacent'\n",
    "flat_tier1.loc[(flat_tier1['sampled_site_condition_specimen'] != 'normal'), 'sampled_site_condition'] = 'diseased'\n",
    "\n",
    "if any(flat_tier1['sampled_site_condition'] == 'adjacent'):\n",
    "    print(\"Please investigate if diseases of donor could be diseases in specimen,\",\n",
    "         \"in order to define healthy or adjacent sampled_site_condition\")\n",
    "    display(flat_tier1.loc[flat_tier1['sampled_site_condition'] == 'adjacent', \\\n",
    "                         ['sampled_site_condition_donor', 'sampled_site_condition_specimen', 'tissue']])\n",
    "\n",
    "if False:\n",
    "    flat_tier1.loc[(flat_tier1['sampled_site_condition_donor'] == 'TYPE NOT ADJACENT DISEASE') & \\\n",
    "                   (flat_tier1['sampled_site_condition_specimen'] == 'normal'), 'sampled_site_condition'] = 'healthy'"
   ]
  },
  {
   "cell_type": "code",
   "execution_count": 22,
   "metadata": {},
   "outputs": [],
   "source": [
    "if 'manner_of_death' not in flat_tier1.keys():\n",
    "    flat_tier1['manner_of_death'] = 'unknown'\n",
    "flat_tier1['manner_of_death'] = flat_tier1['manner_of_death'].apply(str)\n",
    "\n",
    "if 'sample_source_alive' in flat_tier1.keys():\n",
    "    flat_tier1.loc[(flat_tier1['sample_source_alive'] == 'yes'), 'manner_of_death'] = 'not applicable'\n",
    "if 'manner_of_death_string' in flat_tier1.keys() and \\\n",
    "    not flat_tier1['manner_of_death'].isin(['0', '1', '2', '3', '4', 'unknown']).any():\n",
    "    print(\"We have the following cause of death values. Could we convert that in hardy scale?\")\n",
    "    display(flat_tier1.loc[(pd.notna(flat_tier1['manner_of_death_string']),'manner_of_death_string')].unique())\n",
    "\n",
    "if False:\n",
    "    flat_tier1.loc[(flat_tier1['manner_of_death_string'] == 'SELECTED CAUSE OF DEATH'), 'manner_of_death'] = 'HARDY SCALE VALUE'"
   ]
  },
  {
   "cell_type": "code",
   "execution_count": 23,
   "metadata": {},
   "outputs": [],
   "source": [
    "# after inspection drop redundant columns\n",
    "flat_tier1.drop(columns=['sampled_site_condition_donor', 'sampled_site_condition_specimen', \n",
    "                         'tissue', 'sample_source_alive'], inplace=True)"
   ]
  },
  {
   "cell_type": "code",
   "execution_count": 24,
   "metadata": {},
   "outputs": [],
   "source": [
    "# TODO add library_sequencing_run and library_sequencing_run_insdc"
   ]
  },
  {
   "cell_type": "markdown",
   "metadata": {},
   "source": [
    "## Group by sample"
   ]
  },
  {
   "cell_type": "code",
   "execution_count": 25,
   "metadata": {},
   "outputs": [],
   "source": [
    "# Template is at sample level, therefore all library level fields will be collapsed with comma\n",
    "def collapse_values(series):\n",
    "    return \", \".join(series.unique().astype(str))\n",
    "\n",
    "flat_tier1_sample = flat_tier1.groupby('sample_id').agg(collapse_values)\n",
    "\n",
    "# keep only tier 1 fields, remove helper fields\n",
    "flat_tier1_sample = flat_tier1_sample.reindex(columns=[col for col in tier1['obs'] if col != 'sample_id'])"
   ]
  },
  {
   "cell_type": "markdown",
   "metadata": {},
   "source": [
    "## Export to xlsx"
   ]
  },
  {
   "cell_type": "code",
   "execution_count": 26,
   "metadata": {},
   "outputs": [],
   "source": [
    "tier1_output = tier1_path + file_name.replace('.xlsx', \"_Tier1.xlsx\")\n",
    "! cp 'HCA_Tier 1_ Technical Metadata template_v0.1.xlsx' $tier1_output"
   ]
  },
  {
   "cell_type": "code",
   "execution_count": 27,
   "metadata": {},
   "outputs": [],
   "source": [
    "tier1_spreadsheet = {}\n",
    "tier1_spreadsheet['Tier 1_uns'] = uns\n",
    "tier1_spreadsheet['Tier 1_obs'] = flat_tier1_sample"
   ]
  },
  {
   "cell_type": "code",
   "execution_count": 28,
   "metadata": {},
   "outputs": [],
   "source": [
    "excel_dict = pd.read_excel(tier1_output, header=1, sheet_name=None)\n",
    "for sheet_name, excel_df in excel_dict.items():\n",
    "    if sheet_name in tier1_spreadsheet:\n",
    "        py_df = tier1_spreadsheet[sheet_name]\n",
    "        excel_dict[sheet_name] = pd.concat([excel_df, py_df])"
   ]
  },
  {
   "cell_type": "code",
   "execution_count": 29,
   "metadata": {},
   "outputs": [],
   "source": [
    "with pd.ExcelWriter(tier1_output) as writer:\n",
    "    for tab in excel_dict:\n",
    "        excel_dict[tab].to_excel(writer, sheet_name=tab, index=False)"
   ]
  },
  {
   "cell_type": "code",
   "execution_count": 30,
   "metadata": {},
   "outputs": [],
   "source": [
    "tier1_spreadsheet['Tier 1_uns'].to_csv(os.path.join(tier1_path, file_name.replace('.xlsx', '_tier1_uns.csv')))\n",
    "tier1_spreadsheet['Tier 1_obs'].to_csv(os.path.join(tier1_path, file_name.replace('.xlsx', '_tier1_obs.csv')))"
   ]
  },
  {
   "cell_type": "code",
   "execution_count": null,
   "metadata": {},
   "outputs": [],
   "source": []
  }
 ],
 "metadata": {
  "kernelspec": {
   "display_name": "pandas",
   "language": "python",
   "name": "python3"
  },
  "language_info": {
   "codemirror_mode": {
    "name": "ipython",
    "version": 3
   },
   "file_extension": ".py",
   "mimetype": "text/x-python",
   "name": "python",
   "nbconvert_exporter": "python",
   "pygments_lexer": "ipython3",
   "version": "3.12.2"
  }
 },
 "nbformat": 4,
 "nbformat_minor": 2
}
